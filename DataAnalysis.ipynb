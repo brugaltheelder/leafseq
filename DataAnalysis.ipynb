{
 "cells": [
  {
   "cell_type": "code",
   "execution_count": 61,
   "metadata": {
    "collapsed": false
   },
   "outputs": [],
   "source": [
    "# %matplotlib inline\n",
    "import matplotlib\n",
    "matplotlib.use('Agg')\n",
    "\n",
    "import numpy as np\n",
    "import scipy.io as io\n",
    "import matplotlib.pyplot as plt\n",
    "import pandas as pd\n",
    "\n"
   ]
  },
  {
   "cell_type": "code",
   "execution_count": 59,
   "metadata": {
    "collapsed": false
   },
   "outputs": [
    {
     "name": "stdout",
     "output_type": "stream",
     "text": [
      "[u'maxAper       ' u'sin2scale     ' u'sin2multiplier']\n"
     ]
    }
   ],
   "source": [
    "savefolder = '/media/troy/DataDrive/Dropbox/PythonLS/leafseq/figs/'\n",
    "\n",
    "# basefolder = 'stepOrder2/'\n",
    "# F = io.loadmat(basefolder + 'stepFunctionOutOrder2.mat')\n",
    "# targetType = 'Spline Step'\n",
    "\n",
    "# basefolder = 'stepOrder0/'\n",
    "# F = io.loadmat(basefolder + 'stepFunctionOutOrder0.mat')\n",
    "# targetType = 'Unit Step'\n",
    "\n",
    "basefolder = 'doublesin/'\n",
    "F = io.loadmat(basefolder + 'doublesinout.mat')\n",
    "targetType = 'Double Sine'\n",
    "\n",
    "# basefolder = 'singlesin/'\n",
    "# F = io.loadmat(basefolder + 'sinout.mat')\n",
    "# targetType = 'Single Sine'\n",
    "\n",
    "# basefolder = 'erfs/'\n",
    "# F = io.loadmat(basefolder + 'erfsout.mat')\n",
    "# targetType = 'Error Functions'\n",
    "\n",
    "#F = io.loadmat('k_b_c_runsout.mat')\n",
    "headings = ['Random','SW','Centered', 'Peaks','CG Erf Seed', 'CG Erf','CG Unit Seed', 'CG Unit']\n",
    "print F['paramNames']\n",
    "testRatioPosition = 7"
   ]
  },
  {
   "cell_type": "code",
   "execution_count": 74,
   "metadata": {
    "collapsed": false
   },
   "outputs": [
    {
     "name": "stdout",
     "output_type": "stream",
     "text": [
      "[u'maxAper ' u'numBins ' u'minRange']\n"
     ]
    }
   ],
   "source": [
    "savefolder = '/media/troy/DataDrive/Dropbox/PythonLS/leafseq/figsClinK/'\n",
    "\n",
    "# basefolder = 'stepOrder2ClinK/'\n",
    "# F = io.loadmat(basefolder + 'stepFunctionOutOrder2.mat')\n",
    "# targetType = 'Spline Step'\n",
    "\n",
    "basefolder = 'stepOrder0ClinK/'\n",
    "F = io.loadmat(basefolder + 'stepFunctionOutOrder0.mat')\n",
    "targetType = 'Unit Step'\n",
    "\n",
    "# basefolder = 'doublesinClinK/'\n",
    "# F = io.loadmat(basefolder + 'doublesinout.mat')\n",
    "# targetType = 'Double Sine'\n",
    "\n",
    "# basefolder = 'singlesinClinK/'\n",
    "# F = io.loadmat(basefolder + 'sinout.mat')\n",
    "# targetType = 'Single Sine'\n",
    "\n",
    "# basefolder = 'erfsClinK/'\n",
    "# F = io.loadmat(basefolder + 'erfsout.mat')\n",
    "# targetType = 'Error Functions'\n",
    "\n",
    "#F = io.loadmat('k_b_c_runsout.mat')\n",
    "headings = ['Clin Seed', 'Clin', 'Random','SW','Centered', 'Peaks','CG Erf Seed', 'CG Erf','CG Unit Seed', 'CG Unit']\n",
    "print F['paramNames']\n",
    "testRatioPosition = 9"
   ]
  },
  {
   "cell_type": "code",
   "execution_count": 75,
   "metadata": {
    "collapsed": false
   },
   "outputs": [
    {
     "name": "stdout",
     "output_type": "stream",
     "text": [
      "\\begin{tabular}{lrrrrrrrrrr}\n",
      "\\toprule\n",
      "{} &  Clin Seed &     Clin &    Random &       SW &  Centered &     Peaks &  CG Erf Seed &   CG Erf &  CG Unit Seed &  CG Unit \\\\\n",
      "\\midrule\n",
      "count &     48.000 &   48.000 &    48.000 &   48.000 &    48.000 &    48.000 &       48.000 &   48.000 &        48.000 &   48.000 \\\\\n",
      "mean  &     76.244 &   25.340 &   207.788 &   53.813 &   309.565 &   371.793 &       48.600 &   26.816 &        78.717 &   28.121 \\\\\n",
      "std   &     32.284 &   28.095 &   272.818 &   68.869 &   320.697 &   469.245 &       38.598 &   32.679 &        44.679 &   44.282 \\\\\n",
      "min   &     47.878 &    1.264 &     4.619 &    3.267 &     3.348 &     2.808 &        9.372 &    1.566 &        47.898 &    1.183 \\\\\n",
      "25\\%   &     61.305 &    4.151 &    32.283 &   12.922 &    73.488 &    32.212 &       24.575 &    3.856 &        61.529 &    3.635 \\\\\n",
      "50\\%   &     66.963 &   14.591 &    89.545 &   24.220 &   168.871 &   138.265 &       37.462 &   14.773 &        66.806 &   14.446 \\\\\n",
      "75\\%   &     76.294 &   38.851 &   295.340 &   65.011 &   458.221 &   639.807 &       62.244 &   38.669 &        79.822 &   37.106 \\\\\n",
      "max   &    232.207 &  122.051 &  1104.722 &  340.032 &  1519.020 &  1658.749 &      195.941 &  156.480 &       343.235 &  284.770 \\\\\n",
      "\\bottomrule\n",
      "\\end{tabular}\n",
      "\n"
     ]
    }
   ],
   "source": [
    "\n",
    "rowtitles = F['paramNames']\n",
    "inner = np.round(F['paramList'].transpose(),decimals=2).tolist()\n",
    "tups = list(zip(*inner))\n",
    "index = pd.MultiIndex.from_tuples(tups,names=rowtitles)\n",
    "obj_df = pd.DataFrame(F['objectives'], index = index, columns=headings)\n",
    "print obj_df.describe().apply(pd.Series.round,args=(3,)).to_latex()"
   ]
  },
  {
   "cell_type": "code",
   "execution_count": 76,
   "metadata": {
    "collapsed": false,
    "scrolled": true
   },
   "outputs": [
    {
     "name": "stdout",
     "output_type": "stream",
     "text": [
      "\\begin{tabular}{lrrrrrrrrrr}\n",
      "\\toprule\n",
      "{} &  Clin Seed &   Clin &  Random &     SW &  Centered &  Peaks &  CG Erf Seed &  CG Erf &  CG Unit Seed &  CG Unit \\\\\n",
      "\\midrule\n",
      "count &      48.00 &  48.00 &   48.00 &  48.00 &     48.00 &  48.00 &        48.00 &   48.00 &         48.00 &       48 \\\\\n",
      "mean  &      10.93 &   1.05 &    9.52 &   3.21 &     15.17 &  18.04 &         4.27 &    1.09 &         10.88 &        1 \\\\\n",
      "std   &      13.65 &   0.25 &    6.91 &   3.31 &      7.86 &  17.69 &         4.58 &    0.19 &         13.49 &        0 \\\\\n",
      "min   &       0.62 &   0.41 &    1.21 &   0.54 &      2.23 &   0.89 &         0.66 &    0.55 &          1.21 &        1 \\\\\n",
      "25\\%   &       2.21 &   1.00 &    4.17 &   1.17 &     11.17 &   2.27 &         1.69 &    1.01 &          2.28 &        1 \\\\\n",
      "50\\%   &       4.25 &   1.02 &    7.86 &   2.24 &     13.19 &  17.32 &         2.31 &    1.05 &          4.35 &        1 \\\\\n",
      "75\\%   &      17.33 &   1.04 &   11.97 &   3.69 &     18.12 &  27.41 &         4.45 &    1.09 &         17.34 &        1 \\\\\n",
      "max   &      58.77 &   2.45 &   28.01 &  18.20 &     35.62 &  86.26 &        22.14 &    1.66 &         58.79 &        1 \\\\\n",
      "\\bottomrule\n",
      "\\end{tabular}\n",
      "\n"
     ]
    }
   ],
   "source": [
    "objs_scaled = F['objectives']\n",
    "scaledrow = np.copy(objs_scaled[:,testRatioPosition])\n",
    "for i in range(objs_scaled.shape[1]):\n",
    "        objs_scaled[:,i] = objs_scaled[:,i]/scaledrow\n",
    "objs_scaled_df = pd.DataFrame(objs_scaled, index = index, columns=headings)\n",
    "print objs_scaled_df.describe().apply(pd.Series.round,args=(2,)).to_latex()"
   ]
  },
  {
   "cell_type": "code",
   "execution_count": 77,
   "metadata": {
    "collapsed": false
   },
   "outputs": [],
   "source": [
    "objs_scaled_df.plot(x=np.arange(objs_scaled.shape[0]), kind='box', title=\"Objective function ratios to CG Unit for f=\"+targetType,meanline=True, showmeans=True, logy=True)\n",
    "plt.plot((0,2+len(headings)),(1,1),color='c',zorder=1)\n",
    "plt.xlabel('Method')\n",
    "plt.ylabel('Ratio to CG Unit objective')\n",
    "fig = plt.gcf()\n",
    "fig.set_size_inches(12,8, forward = True)\n",
    "plt.savefig(savefolder + targetType.replace(' ','_') + '_' + 'ObjRatioBoxPlot.png', bbox_inches='tight', dpi=400)\n",
    "plt.show()"
   ]
  },
  {
   "cell_type": "code",
   "execution_count": 78,
   "metadata": {
    "collapsed": false
   },
   "outputs": [
    {
     "name": "stdout",
     "output_type": "stream",
     "text": [
      "       Clin Seed       Clin     Random         SW   Centered      Peaks  \\\n",
      "count  48.000000  48.000000  48.000000  48.000000  48.000000  48.000000   \n",
      "mean    0.284714   0.413334   0.552163   0.699377   0.477547   0.521178   \n",
      "std     0.071642   0.061855   0.102399   0.207327   0.083270   0.157030   \n",
      "min     0.183823   0.323208   0.381148   0.427053   0.344961   0.352208   \n",
      "25%     0.228897   0.364108   0.479594   0.553816   0.414294   0.408933   \n",
      "50%     0.278419   0.402005   0.535441   0.639324   0.465519   0.453006   \n",
      "75%     0.316383   0.441940   0.621821   0.828747   0.530391   0.607974   \n",
      "max     0.525877   0.566774   0.774725   1.429188   0.704515   0.974009   \n",
      "\n",
      "       CG Erf Seed     CG Erf  CG Unit Seed    CG Unit  \n",
      "count    48.000000  48.000000     48.000000  48.000000  \n",
      "mean      0.238523   0.466762      0.213041   0.452156  \n",
      "std       0.023206   0.101115      0.026641   0.077337  \n",
      "min       0.188758   0.337761      0.174490   0.334989  \n",
      "25%       0.221379   0.381266      0.193867   0.384476  \n",
      "50%       0.234167   0.441158      0.202203   0.434403  \n",
      "75%       0.246162   0.530203      0.229563   0.501991  \n",
      "max       0.301015   0.732416      0.282473   0.626131  \n"
     ]
    }
   ],
   "source": [
    "runTime_df = pd.DataFrame(F['runTimes'], index = index, columns=headings)\n",
    "print runTime_df.describe()\n",
    "\n",
    "runTime_df.plot(x=np.arange(objs_scaled.shape[0]), kind='box', title=\"Run time in seconds per method for f=\"+targetType, meanline=True,showmeans=True)\n",
    "plt.xlabel('Method')\n",
    "plt.ylabel('Run time in seconds')\n",
    "fig = plt.gcf()\n",
    "fig.set_size_inches(12,8, forward = True)\n",
    "plt.savefig(savefolder + targetType.replace(' ','_') + '_' + 'RunTimesPlot.png', bbox_inches='tight', dpi=400)\n",
    "plt.show()"
   ]
  },
  {
   "cell_type": "code",
   "execution_count": 79,
   "metadata": {
    "collapsed": false
   },
   "outputs": [
    {
     "data": {
      "text/html": [
       "<div>\n",
       "<table border=\"1\" class=\"dataframe\">\n",
       "  <thead>\n",
       "    <tr style=\"text-align: right;\">\n",
       "      <th></th>\n",
       "      <th></th>\n",
       "      <th></th>\n",
       "      <th>Clin Seed</th>\n",
       "      <th>Clin</th>\n",
       "      <th>Random</th>\n",
       "      <th>SW</th>\n",
       "      <th>Centered</th>\n",
       "      <th>Peaks</th>\n",
       "      <th>CG Erf Seed</th>\n",
       "      <th>CG Erf</th>\n",
       "      <th>CG Unit Seed</th>\n",
       "      <th>CG Unit</th>\n",
       "    </tr>\n",
       "    <tr>\n",
       "      <th>maxAper</th>\n",
       "      <th>numBins</th>\n",
       "      <th>minRange</th>\n",
       "      <th></th>\n",
       "      <th></th>\n",
       "      <th></th>\n",
       "      <th></th>\n",
       "      <th></th>\n",
       "      <th></th>\n",
       "      <th></th>\n",
       "      <th></th>\n",
       "      <th></th>\n",
       "      <th></th>\n",
       "    </tr>\n",
       "  </thead>\n",
       "  <tbody>\n",
       "    <tr>\n",
       "      <th>10</th>\n",
       "      <th>10</th>\n",
       "      <th>3</th>\n",
       "      <td>5.253378</td>\n",
       "      <td>0.994033</td>\n",
       "      <td>11.950911</td>\n",
       "      <td>0.761022</td>\n",
       "      <td>12.384495</td>\n",
       "      <td>86.261079</td>\n",
       "      <td>2.543112</td>\n",
       "      <td>1.012021</td>\n",
       "      <td>5.263019</td>\n",
       "      <td>1</td>\n",
       "    </tr>\n",
       "    <tr>\n",
       "      <th rowspan=\"4\" valign=\"top\">30</th>\n",
       "      <th rowspan=\"2\" valign=\"top\">10</th>\n",
       "      <th>5</th>\n",
       "      <td>8.499962</td>\n",
       "      <td>1.022211</td>\n",
       "      <td>10.218611</td>\n",
       "      <td>1.629151</td>\n",
       "      <td>16.555002</td>\n",
       "      <td>26.525738</td>\n",
       "      <td>4.126103</td>\n",
       "      <td>1.078592</td>\n",
       "      <td>8.515929</td>\n",
       "      <td>1</td>\n",
       "    </tr>\n",
       "    <tr>\n",
       "      <th>6</th>\n",
       "      <td>30.246661</td>\n",
       "      <td>1.019705</td>\n",
       "      <td>18.210642</td>\n",
       "      <td>10.369016</td>\n",
       "      <td>15.926193</td>\n",
       "      <td>30.048012</td>\n",
       "      <td>13.141616</td>\n",
       "      <td>1.497411</td>\n",
       "      <td>30.259674</td>\n",
       "      <td>1</td>\n",
       "    </tr>\n",
       "    <tr>\n",
       "      <th rowspan=\"2\" valign=\"top\">15</th>\n",
       "      <th>3</th>\n",
       "      <td>1.512500</td>\n",
       "      <td>1.046824</td>\n",
       "      <td>5.235148</td>\n",
       "      <td>1.050134</td>\n",
       "      <td>18.522705</td>\n",
       "      <td>19.491314</td>\n",
       "      <td>1.319797</td>\n",
       "      <td>1.063762</td>\n",
       "      <td>1.529639</td>\n",
       "      <td>1</td>\n",
       "    </tr>\n",
       "    <tr>\n",
       "      <th>4</th>\n",
       "      <td>5.032913</td>\n",
       "      <td>1.046585</td>\n",
       "      <td>20.091507</td>\n",
       "      <td>1.414724</td>\n",
       "      <td>24.855388</td>\n",
       "      <td>30.553974</td>\n",
       "      <td>2.588908</td>\n",
       "      <td>1.063536</td>\n",
       "      <td>5.063772</td>\n",
       "      <td>1</td>\n",
       "    </tr>\n",
       "  </tbody>\n",
       "</table>\n",
       "</div>"
      ],
      "text/plain": [
       "                            Clin Seed      Clin     Random         SW  \\\n",
       "maxAper  numBins  minRange                                              \n",
       "10       10       3          5.253378  0.994033  11.950911   0.761022   \n",
       "30       10       5          8.499962  1.022211  10.218611   1.629151   \n",
       "                  6         30.246661  1.019705  18.210642  10.369016   \n",
       "         15       3          1.512500  1.046824   5.235148   1.050134   \n",
       "                  4          5.032913  1.046585  20.091507   1.414724   \n",
       "\n",
       "                             Centered      Peaks  CG Erf Seed    CG Erf  \\\n",
       "maxAper  numBins  minRange                                                \n",
       "10       10       3         12.384495  86.261079     2.543112  1.012021   \n",
       "30       10       5         16.555002  26.525738     4.126103  1.078592   \n",
       "                  6         15.926193  30.048012    13.141616  1.497411   \n",
       "         15       3         18.522705  19.491314     1.319797  1.063762   \n",
       "                  4         24.855388  30.553974     2.588908  1.063536   \n",
       "\n",
       "                            CG Unit Seed  CG Unit  \n",
       "maxAper  numBins  minRange                         \n",
       "10       10       3             5.263019        1  \n",
       "30       10       5             8.515929        1  \n",
       "                  6            30.259674        1  \n",
       "         15       3             1.529639        1  \n",
       "                  4             5.063772        1  "
      ]
     },
     "execution_count": 79,
     "metadata": {},
     "output_type": "execute_result"
    }
   ],
   "source": [
    "objs_scaled_df.sort(columns=['CG Unit']).head(5)"
   ]
  },
  {
   "cell_type": "code",
   "execution_count": 80,
   "metadata": {
    "collapsed": false
   },
   "outputs": [
    {
     "data": {
      "text/html": [
       "<div>\n",
       "<table border=\"1\" class=\"dataframe\">\n",
       "  <thead>\n",
       "    <tr style=\"text-align: right;\">\n",
       "      <th></th>\n",
       "      <th>Clin Seed</th>\n",
       "      <th>Clin</th>\n",
       "      <th>Random</th>\n",
       "      <th>SW</th>\n",
       "      <th>Centered</th>\n",
       "      <th>Peaks</th>\n",
       "      <th>CG Erf Seed</th>\n",
       "      <th>CG Erf</th>\n",
       "      <th>CG Unit Seed</th>\n",
       "      <th>CG Unit</th>\n",
       "    </tr>\n",
       "  </thead>\n",
       "  <tbody>\n",
       "    <tr>\n",
       "      <th>count</th>\n",
       "      <td>48.000000</td>\n",
       "      <td>48.000000</td>\n",
       "      <td>48.000000</td>\n",
       "      <td>48.000000</td>\n",
       "      <td>48.000000</td>\n",
       "      <td>48.000000</td>\n",
       "      <td>48.000000</td>\n",
       "      <td>48.000000</td>\n",
       "      <td>48.000000</td>\n",
       "      <td>48</td>\n",
       "    </tr>\n",
       "    <tr>\n",
       "      <th>mean</th>\n",
       "      <td>0.921184</td>\n",
       "      <td>0.942568</td>\n",
       "      <td>1.155774</td>\n",
       "      <td>3.404730</td>\n",
       "      <td>0.752022</td>\n",
       "      <td>0.763212</td>\n",
       "      <td>1.431367</td>\n",
       "      <td>1.433225</td>\n",
       "      <td>0.977962</td>\n",
       "      <td>1</td>\n",
       "    </tr>\n",
       "    <tr>\n",
       "      <th>std</th>\n",
       "      <td>0.078433</td>\n",
       "      <td>0.079858</td>\n",
       "      <td>0.415683</td>\n",
       "      <td>1.244585</td>\n",
       "      <td>0.256337</td>\n",
       "      <td>0.354071</td>\n",
       "      <td>0.561773</td>\n",
       "      <td>0.562207</td>\n",
       "      <td>0.015324</td>\n",
       "      <td>0</td>\n",
       "    </tr>\n",
       "    <tr>\n",
       "      <th>min</th>\n",
       "      <td>0.726884</td>\n",
       "      <td>0.762948</td>\n",
       "      <td>0.501469</td>\n",
       "      <td>1.454580</td>\n",
       "      <td>0.291185</td>\n",
       "      <td>0.212849</td>\n",
       "      <td>0.864269</td>\n",
       "      <td>0.858298</td>\n",
       "      <td>0.906109</td>\n",
       "      <td>1</td>\n",
       "    </tr>\n",
       "    <tr>\n",
       "      <th>25%</th>\n",
       "      <td>0.878558</td>\n",
       "      <td>0.895916</td>\n",
       "      <td>0.826919</td>\n",
       "      <td>2.512353</td>\n",
       "      <td>0.571080</td>\n",
       "      <td>0.482421</td>\n",
       "      <td>1.062176</td>\n",
       "      <td>1.077985</td>\n",
       "      <td>0.971194</td>\n",
       "      <td>1</td>\n",
       "    </tr>\n",
       "    <tr>\n",
       "      <th>50%</th>\n",
       "      <td>0.936867</td>\n",
       "      <td>0.951554</td>\n",
       "      <td>1.139107</td>\n",
       "      <td>3.127016</td>\n",
       "      <td>0.721594</td>\n",
       "      <td>0.729513</td>\n",
       "      <td>1.205083</td>\n",
       "      <td>1.245856</td>\n",
       "      <td>0.980876</td>\n",
       "      <td>1</td>\n",
       "    </tr>\n",
       "    <tr>\n",
       "      <th>75%</th>\n",
       "      <td>0.967956</td>\n",
       "      <td>0.982437</td>\n",
       "      <td>1.406974</td>\n",
       "      <td>4.045919</td>\n",
       "      <td>0.928719</td>\n",
       "      <td>1.053250</td>\n",
       "      <td>1.560808</td>\n",
       "      <td>1.560875</td>\n",
       "      <td>0.987932</td>\n",
       "      <td>1</td>\n",
       "    </tr>\n",
       "    <tr>\n",
       "      <th>max</th>\n",
       "      <td>1.205931</td>\n",
       "      <td>1.249291</td>\n",
       "      <td>2.449967</td>\n",
       "      <td>6.708139</td>\n",
       "      <td>1.386702</td>\n",
       "      <td>1.445731</td>\n",
       "      <td>2.996617</td>\n",
       "      <td>3.006604</td>\n",
       "      <td>0.995135</td>\n",
       "      <td>1</td>\n",
       "    </tr>\n",
       "  </tbody>\n",
       "</table>\n",
       "</div>"
      ],
      "text/plain": [
       "       Clin Seed       Clin     Random         SW   Centered      Peaks  \\\n",
       "count  48.000000  48.000000  48.000000  48.000000  48.000000  48.000000   \n",
       "mean    0.921184   0.942568   1.155774   3.404730   0.752022   0.763212   \n",
       "std     0.078433   0.079858   0.415683   1.244585   0.256337   0.354071   \n",
       "min     0.726884   0.762948   0.501469   1.454580   0.291185   0.212849   \n",
       "25%     0.878558   0.895916   0.826919   2.512353   0.571080   0.482421   \n",
       "50%     0.936867   0.951554   1.139107   3.127016   0.721594   0.729513   \n",
       "75%     0.967956   0.982437   1.406974   4.045919   0.928719   1.053250   \n",
       "max     1.205931   1.249291   2.449967   6.708139   1.386702   1.445731   \n",
       "\n",
       "       CG Erf Seed     CG Erf  CG Unit Seed  CG Unit  \n",
       "count    48.000000  48.000000     48.000000       48  \n",
       "mean      1.431367   1.433225      0.977962        1  \n",
       "std       0.561773   0.562207      0.015324        0  \n",
       "min       0.864269   0.858298      0.906109        1  \n",
       "25%       1.062176   1.077985      0.971194        1  \n",
       "50%       1.205083   1.245856      0.980876        1  \n",
       "75%       1.560808   1.560875      0.987932        1  \n",
       "max       2.996617   3.006604      0.995135        1  "
      ]
     },
     "execution_count": 80,
     "metadata": {},
     "output_type": "execute_result"
    }
   ],
   "source": [
    "# Get total MUs, plot ratios\n",
    "mus_scaled = F['totalMU']\n",
    "scaledMUrow = np.copy(mus_scaled[:,testRatioPosition])\n",
    "for i in range(mus_scaled.shape[1]):\n",
    "        mus_scaled[:,i] = mus_scaled[:,i]/scaledMUrow\n",
    "mus_scaled_df = pd.DataFrame(mus_scaled, index = index, columns=headings)\n",
    "mus_scaled_df.plot(x=np.arange(objs_scaled.shape[0]), kind='box', title=\"MU ratios to CG Unit for f=\"+targetType,meanline=True, showmeans=True)\n",
    "plt.plot((0,2+len(headings)),(1,1),color='c', zorder=1)\n",
    "plt.xlabel('Method')\n",
    "plt.ylabel('MU Ratio to CG Unit')\n",
    "fig = plt.gcf()\n",
    "fig.set_size_inches(12,8, forward = True)\n",
    "plt.savefig(savefolder + targetType.replace(' ','_') + '_' + 'MURatios.png', bbox_inches='tight', dpi=400)\n",
    "plt.show()\n",
    "mus_scaled_df.describe()"
   ]
  },
  {
   "cell_type": "code",
   "execution_count": 81,
   "metadata": {
    "collapsed": false
   },
   "outputs": [
    {
     "data": {
      "text/plain": [
       "count     4.000000\n",
       "mean     14.215609\n",
       "std       5.740491\n",
       "min       8.447177\n",
       "25%      11.400166\n",
       "50%      13.158022\n",
       "75%      15.973465\n",
       "max      22.099215\n",
       "Name: (10.0, 3.0, Centered), dtype: float64"
      ]
     },
     "execution_count": 81,
     "metadata": {},
     "output_type": "execute_result"
    }
   ],
   "source": [
    "# make pivot table of run times per K\n",
    "objs_stacked_df = objs_scaled_df.stack()\n",
    "objs_stacked_df.unstack(0).iloc[4,:].describe()"
   ]
  },
  {
   "cell_type": "code",
   "execution_count": 82,
   "metadata": {
    "collapsed": false
   },
   "outputs": [],
   "source": [
    "runTime_df.mean(level=0).plot()\n",
    "plt.savefig(savefolder + targetType.replace(' ','_') + '_' + 'MeanRunTimesPerK.png')\n",
    "plt.show()"
   ]
  },
  {
   "cell_type": "code",
   "execution_count": 83,
   "metadata": {
    "collapsed": false
   },
   "outputs": [],
   "source": [
    "mus_stacked = mus_scaled_df.stack()\n",
    "objs_stacked = objs_scaled_df.stack"
   ]
  },
  {
   "cell_type": "code",
   "execution_count": 84,
   "metadata": {
    "collapsed": false
   },
   "outputs": [
    {
     "ename": "SyntaxError",
     "evalue": "invalid syntax (<ipython-input-84-4109f28d5de6>, line 1)",
     "output_type": "error",
     "traceback": [
      "\u001b[1;36m  File \u001b[1;32m\"<ipython-input-84-4109f28d5de6>\"\u001b[1;36m, line \u001b[1;32m1\u001b[0m\n\u001b[1;33m    plt.scatter(mus_scaled_df,objs_scaled_df, color = mus_scaled_df.)\u001b[0m\n\u001b[1;37m                                                                    ^\u001b[0m\n\u001b[1;31mSyntaxError\u001b[0m\u001b[1;31m:\u001b[0m invalid syntax\n"
     ]
    }
   ],
   "source": [
    "plt.scatter(mus_scaled_df,objs_scaled_df, color = mus_scaled_df.)\n",
    "plt.show()\n"
   ]
  },
  {
   "cell_type": "code",
   "execution_count": null,
   "metadata": {
    "collapsed": false
   },
   "outputs": [],
   "source": [
    "#print objs_scaled_df\n",
    "kFix = 10\n",
    "l1Fix = 2\n",
    "print objs_scaled_df.xs((kFix,l1Fix),level=(0,1))\n",
    "print mus_scaled_df.xs((kFix,l1Fix),level=(0,1))\n",
    "plt.scatter(mus_scaled_df.xs((kFix,l1Fix),level=(0,1)),objs_scaled_df.xs((kFix,l1Fix),level=(0,1)))\n",
    "plt.show()"
   ]
  },
  {
   "cell_type": "code",
   "execution_count": null,
   "metadata": {
    "collapsed": false
   },
   "outputs": [],
   "source": []
  },
  {
   "cell_type": "code",
   "execution_count": null,
   "metadata": {
    "collapsed": false
   },
   "outputs": [],
   "source": []
  },
  {
   "cell_type": "code",
   "execution_count": null,
   "metadata": {
    "collapsed": false
   },
   "outputs": [],
   "source": [
    "kFix = objs_scaled_df.index.levels[0][0::2]\n",
    "l1Fix = objs_scaled_df.index.levels[1][0::2]\n",
    "print kFix, l1Fix\n",
    "\n",
    "counter = 1\n",
    "for l in range(len(l1Fix)):\n",
    "    for k in range(len(kFix)):    \n",
    "        ax = plt.subplot(len(kFix),len(l1Fix),counter)\n",
    "        ax.set_yscale('log')\n",
    "        rainbow = ['r','c','darkblue','maroon', 'yellow', 'black','gray','g', 'peru']\n",
    "        for s,i in zip(objs_scaled_df.columns.values,range(len(objs_scaled_df.columns.values))):\n",
    "            color = rainbow[i]\n",
    "            ax.plot(mus_scaled_df.xs((kFix[k],l1Fix[l]),level=(0,1))[s],objs_scaled_df.xs((kFix[k],l1Fix[l]),level=(0,1))[s],color = color, label = s,marker = 'o', zorder =2)\n",
    "        if counter==1:                        \n",
    "            #ax.legend(bbox_to_anchor=(1.05, 1), loc=2, borderaxespad=0.)        \n",
    "            ax.legend(markerscale = 0.5,fontsize=12,fancybox=True,framealpha=0.5)\n",
    "        plt.xlabel('MU Ratio')\n",
    "        plt.ylabel('Obj Ratio')\n",
    "        plt.title('K = ' + str(kFix[k]) +', ' + rowtitles[1].strip() + ' = ' + str(l1Fix[l]))\n",
    "        plt.plot((0,mus_scaled_df.xs((kFix[k],l1Fix[l]),level=(0,1)).max().max()),(1,1),color='orange', zorder=1)\n",
    "        plt.plot((1,1),(objs_scaled_df.xs((kFix[k],l1Fix[l]),level=(0,1)).min().min(),objs_scaled_df.xs((kFix[k],l1Fix[l]),level=(0,1)).max().max()),color= 'orange', zorder=1)\n",
    "        plt.axis('tight')\n",
    "        plt.xlim(min(0.5,mus_scaled_df.xs((kFix[k],l1Fix[l]),level=(0,1)).min().min()),mus_scaled_df.xs((kFix[k],l1Fix[l]),level=(0,1)).max().max())\n",
    "        plt.ylim(min(0.7,objs_scaled_df.xs((kFix[k],l1Fix[l]),level=(0,1)).min().min()),objs_scaled_df.xs((kFix[k],l1Fix[l]),level=(0,1)).max().max())\n",
    "        counter+=1\n",
    "fig = plt.gcf()\n",
    "fig.set_size_inches(5 * len(l1Fix),3 * len(kFix), forward = True)\n",
    "plt.tight_layout(pad = 0.3)\n",
    "plt.savefig(savefolder + targetType.replace(' ','_') + '_' + 'ObjVsMU.png', bbox_inches='tight', dpi=400)\n",
    "plt.show()\n",
    "\n"
   ]
  },
  {
   "cell_type": "code",
   "execution_count": null,
   "metadata": {
    "collapsed": false
   },
   "outputs": [],
   "source": []
  },
  {
   "cell_type": "code",
   "execution_count": null,
   "metadata": {
    "collapsed": true
   },
   "outputs": [],
   "source": []
  }
 ],
 "metadata": {
  "kernelspec": {
   "display_name": "Python 2",
   "language": "python",
   "name": "python2"
  },
  "language_info": {
   "codemirror_mode": {
    "name": "ipython",
    "version": 2
   },
   "file_extension": ".py",
   "mimetype": "text/x-python",
   "name": "python",
   "nbconvert_exporter": "python",
   "pygments_lexer": "ipython2",
   "version": "2.7.10"
  }
 },
 "nbformat": 4,
 "nbformat_minor": 0
}

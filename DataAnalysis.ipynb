{
 "cells": [
  {
   "cell_type": "code",
   "execution_count": 2,
   "metadata": {
    "collapsed": false
   },
   "outputs": [],
   "source": [
    "# %matplotlib inline\n",
    "import matplotlib\n",
    "matplotlib.use('Agg')\n",
    "\n",
    "import numpy as np\n",
    "import scipy.io as io\n",
    "import matplotlib.pyplot as plt\n",
    "import pandas as pd\n",
    "\n"
   ]
  },
  {
   "cell_type": "code",
   "execution_count": 3,
   "metadata": {
    "collapsed": false
   },
   "outputs": [
    {
     "name": "stdout",
     "output_type": "stream",
     "text": [
      "[u'maxAper ' u'numBins ' u'minRange']\n"
     ]
    }
   ],
   "source": [
    "savefolder = '/media/troy/DataDrive/Dropbox/PythonLS/leafseq/figs/'\n",
    "\n",
    "basefolder = 'stepOrder2/'\n",
    "F = io.loadmat(basefolder + 'stepFunctionOutOrder2.mat')\n",
    "targetType = 'Spline Step'\n",
    "\n",
    "# basefolder = 'stepOrder0/'\n",
    "# F = io.loadmat(basefolder + 'stepFunctionOutOrder0.mat')\n",
    "# targetType = 'Unit Step'\n",
    "\n",
    "# basefolder = 'doublesin/'\n",
    "# F = io.loadmat(basefolder + 'doublesinout.mat')\n",
    "# targetType = 'Double Sine'\n",
    "\n",
    "# basefolder = 'singlesin/'\n",
    "# F = io.loadmat(basefolder + 'sinout.mat')\n",
    "# targetType = 'Single Sine'\n",
    "\n",
    "# basefolder = 'erfs/'\n",
    "# F = io.loadmat(basefolder + 'erfsout.mat')\n",
    "# targetType = 'Error Functions'\n",
    "\n",
    "#F = io.loadmat('k_b_c_runsout.mat')\n",
    "headings = ['Random','SW','Centered', 'Peaks','CG Erf Seed', 'CG Erf','CG Unit Seed', 'CG Unit']\n",
    "print F['paramNames']\n",
    "testRatioPosition = 7"
   ]
  },
  {
   "cell_type": "code",
   "execution_count": 4,
   "metadata": {
    "collapsed": false
   },
   "outputs": [
    {
     "name": "stdout",
     "output_type": "stream",
     "text": [
      "[u'maxAper ' u'numBins ' u'minRange']\n"
     ]
    }
   ],
   "source": [
    "savefolder = '/media/troy/DataDrive/Dropbox/PythonLS/leafseq/figsClinK/'\n",
    "\n",
    "basefolder = 'stepOrder2ClinK/'\n",
    "F = io.loadmat(basefolder + 'stepFunctionOutOrder2.mat')\n",
    "targetType = 'Spline Step'\n",
    "\n",
    "# basefolder = 'stepOrder0ClinK/'\n",
    "# F = io.loadmat(basefolder + 'stepFunctionOutOrder0.mat')\n",
    "# targetType = 'Unit Step'\n",
    "\n",
    "# basefolder = 'doublesinClinK/'\n",
    "# F = io.loadmat(basefolder + 'doublesinout.mat')\n",
    "# targetType = 'Double Sine'\n",
    "\n",
    "# basefolder = 'singlesinClinK/'\n",
    "# F = io.loadmat(basefolder + 'sinout.mat')\n",
    "# targetType = 'Single Sine'\n",
    "\n",
    "# basefolder = 'erfsClinK/'\n",
    "# F = io.loadmat(basefolder + 'erfsout.mat')\n",
    "# targetType = 'Error Functions'\n",
    "\n",
    "#F = io.loadmat('k_b_c_runsout.mat')\n",
    "\n",
    "headings = ['Clin Seed', 'Clin', 'Random','SW','Centered', 'Peaks','CG Erf Seed', 'CG Erf','CG Unit Seed', 'CG Unit']\n",
    "print F['paramNames']\n",
    "testRatioPosition = 9"
   ]
  },
  {
   "cell_type": "code",
   "execution_count": 5,
   "metadata": {
    "collapsed": false
   },
   "outputs": [
    {
     "name": "stdout",
     "output_type": "stream",
     "text": [
      "[u'maxAper ' u'numBins ' u'minRange']\n"
     ]
    }
   ],
   "source": [
    "savefolder = '/media/troy/DataDrive/Dropbox/PythonLS/leafseq/figsClinKnew/'\n",
    "\n",
    "basefolder = 'stepOrder2ClinK/'\n",
    "F = io.loadmat(basefolder + 'stepFunctionOutOrder2.mat')\n",
    "targetType = 'Spline Step'\n",
    "\n",
    "# basefolder = 'stepOrder0ClinK/'\n",
    "# F = io.loadmat(basefolder + 'stepFunctionOutOrder0.mat')\n",
    "# targetType = 'Unit Step'\n",
    "\n",
    "# basefolder = 'doublesinClinK/'\n",
    "# F = io.loadmat(basefolder + 'doublesinout.mat')\n",
    "# targetType = 'Double Sine'\n",
    "\n",
    "# basefolder = 'singlesinClinK/'\n",
    "# F = io.loadmat(basefolder + 'sinout.mat')\n",
    "# targetType = 'Single Sine'\n",
    "\n",
    "# basefolder = 'erfsClinK/'\n",
    "# F = io.loadmat(basefolder + 'erfsout.mat')\n",
    "# targetType = 'Error Functions'\n",
    "\n",
    "#F = io.loadmat('k_b_c_runsout.mat')\n",
    "headings = F['runTags'][0]\n",
    "seedHeadings = [h for h in headings if 'CLO_' not in h]\n",
    "cloHeadings =  [h for h in headings if 'CLO_' in h]\n",
    "\n",
    "#headings = ['Clin Seed', 'Clin', 'Random','SW','Centered', 'Peaks','CG Erf Seed', 'CG Erf','CG Unit Seed', 'CG Unit']\n",
    "print F['paramNames']\n",
    "testRatioPosition = 13"
   ]
  },
  {
   "cell_type": "code",
   "execution_count": 27,
   "metadata": {
    "collapsed": false
   },
   "outputs": [
    {
     "name": "stdout",
     "output_type": "stream",
     "text": [
      "(48, 4)\n"
     ]
    },
    {
     "data": {
      "text/plain": [
       "(48, 14)"
      ]
     },
     "execution_count": 27,
     "metadata": {},
     "output_type": "execute_result"
    }
   ],
   "source": [
    "print F['objectives'][:,np.ix_([1,2,3,4])].reshape((-1,4)).shape\n",
    "\n",
    "F['objectives'].shape\n"
   ]
  },
  {
   "cell_type": "code",
   "execution_count": 52,
   "metadata": {
    "collapsed": false
   },
   "outputs": [
    {
     "name": "stdout",
     "output_type": "stream",
     "text": [
      "[0, 2, 4, 6, 8, 10, 12]\n",
      "[1, 3, 5, 7, 9, 11, 13]\n",
      "(48, 14)\n",
      "(48, 7) (48, 7)\n",
      "(48, 7)\n",
      "CLO_Conv     75.088665\n",
      "CLO_Rand      6.549630\n",
      "CLO_Unif     30.959595\n",
      "CLO_Cent     74.797702\n",
      "CLO_Peak     46.062499\n",
      "CLO_DLO       6.113949\n",
      "CLO_DLO-U    92.589651\n",
      "dtype: float64\n",
      "CLO_Conv       1.239574\n",
      "CLO_Rand      48.827099\n",
      "CLO_Unif       9.178319\n",
      "CLO_Cent     174.824725\n",
      "CLO_Peak       4.529279\n",
      "CLO_DLO        2.340561\n",
      "CLO_DLO-U      1.000000\n",
      "dtype: float64\n",
      "                   0           1\n",
      "CLO_Conv   75.088665    1.239574\n",
      "CLO_Rand    6.549630   48.827099\n",
      "CLO_Unif   30.959595    9.178319\n",
      "CLO_Cent   74.797702  174.824725\n",
      "CLO_Peak   46.062499    4.529279\n",
      "CLO_DLO     6.113949    2.340561\n",
      "CLO_DLO-U  92.589651    1.000000\n"
     ]
    }
   ],
   "source": [
    "\n",
    "seedIndices = [i for i in range(len(headings)) if 'CLO_' not in headings[i]]\n",
    "cloIndices = [i for i in range(len(headings)) if 'CLO_' in headings[i]]\n",
    "print seedIndices\n",
    "print cloIndices\n",
    "print F['objectives'].shape\n",
    "print F['objectives'][:,cloIndices].shape, F['objectives'][:,seedIndices].shape\n",
    "obj_imp = np.divide(F['objectives'][:,seedIndices],F['objectives'][:,cloIndices])\n",
    "print obj_imp.shape\n",
    "\n",
    "obj_improvement_df = pd.DataFrame(obj_imp,columns = cloHeadings)\n",
    "print obj_improvement_df.median()\n",
    "print objs_scaled_df[cloHeadings].median()\n",
    "objImpVsScaled = pd.concat([obj_improvement_df.median(),objs_scaled_df[cloHeadings].median()],axis = 1)\n",
    "print objImpVsScaled"
   ]
  },
  {
   "cell_type": "code",
   "execution_count": 7,
   "metadata": {
    "collapsed": false
   },
   "outputs": [
    {
     "name": "stdout",
     "output_type": "stream",
     "text": [
      "\\begin{tabular}{lrrrrrrrrrrrrrr}\n",
      "\\toprule\n",
      "{} &  Conv      &  CLO\\_Conv  &  Rand      &  CLO\\_Rand  &  Unif      &  CLO\\_Unif  &  Cent      &  CLO\\_Cent  &  Peak      &  CLO\\_Peak  &  DLO       &  CLO\\_DLO   &  DLO-U     &  CLO\\_DLO-U \\\\\n",
      "\\midrule\n",
      "count &     48.000 &     48.000 &     48.000 &     48.000 &     48.000 &     48.000 &     48.000 &     48.000 &     48.000 &     48.000 &     48.000 &     48.000 &     48.000 &     48.000 \\\\\n",
      "mean  &     56.544 &      2.519 &    350.586 &     78.800 &    344.672 &     18.494 &   8126.040 &    182.803 &    162.198 &      8.649 &     18.235 &      3.521 &     57.474 &      2.462 \\\\\n",
      "std   &     16.637 &      4.918 &    421.794 &    126.931 &    317.990 &     34.015 &   2298.894 &    226.295 &    112.641 &     13.305 &     21.019 &      5.008 &     16.595 &      4.478 \\\\\n",
      "min   &     28.485 &      0.014 &     14.768 &      0.469 &     80.310 &      0.095 &   3876.665 &      3.509 &     48.222 &      0.038 &      1.474 &      0.344 &     28.392 &      0.006 \\\\\n",
      "25\\%   &     46.376 &      0.142 &     75.292 &     10.993 &    107.327 &      1.928 &   6624.389 &     28.102 &     73.141 &      0.588 &      3.387 &      0.579 &     46.259 &      0.120 \\\\\n",
      "50\\%   &     58.585 &      0.669 &    176.143 &     26.300 &    187.322 &      6.136 &   7951.609 &     96.361 &    133.688 &      1.747 &     10.889 &      1.263 &     60.060 &      0.552 \\\\\n",
      "75\\%   &     64.232 &      2.707 &    548.489 &     80.768 &    463.218 &     19.118 &   9354.866 &    249.296 &    200.985 &      7.682 &     23.183 &      4.271 &     66.674 &      2.012 \\\\\n",
      "max   &    116.155 &     28.142 &   2004.761 &    520.368 &   1217.119 &    197.280 &  12508.225 &   1010.115 &    542.204 &     46.671 &     74.367 &     19.734 &    115.694 &     21.833 \\\\\n",
      "\\bottomrule\n",
      "\\end{tabular}\n",
      "\n"
     ]
    }
   ],
   "source": [
    "\n",
    "rowtitles = F['paramNames']\n",
    "inner = np.round(F['paramList'].transpose(),decimals=2).tolist()\n",
    "tups = list(zip(*inner))\n",
    "index = pd.MultiIndex.from_tuples(tups,names=rowtitles)\n",
    "obj_df = pd.DataFrame(F['objectives'], index = index, columns=headings)\n",
    "print obj_df.describe().apply(pd.Series.round,args=(3,)).to_latex()"
   ]
  },
  {
   "cell_type": "code",
   "execution_count": 41,
   "metadata": {
    "collapsed": false,
    "scrolled": true
   },
   "outputs": [
    {
     "name": "stdout",
     "output_type": "stream",
     "text": [
      "\\begin{tabular}{lrrrrrrrrrrrrrr}\n",
      "\\toprule\n",
      "{} &  Conv      &  CLO\\_Conv  &  Rand      &  CLO\\_Rand  &  Unif      &  CLO\\_Unif  &   Cent      &  CLO\\_Cent  &  Peak      &  CLO\\_Peak  &  DLO       &  CLO\\_DLO   &  DLO-U     &  CLO\\_DLO-U \\\\\n",
      "\\midrule\n",
      "count &      48.00 &      48.00 &      48.00 &      48.00 &      48.00 &      48.00 &       48.00 &      48.00 &      48.00 &      48.00 &      48.00 &      48.00 &      48.00 &         48 \\\\\n",
      "mean  &     889.87 &       1.69 &     957.04 &     202.25 &    1940.67 &      89.39 &   133099.98 &     685.28 &    1257.23 &       5.28 &      36.91 &      11.75 &     899.60 &          1 \\\\\n",
      "std   &    2046.31 &       1.52 &    1329.84 &     593.57 &    3757.47 &     376.72 &   297759.95 &    1229.98 &    2249.28 &       2.98 &      48.42 &      25.50 &    2060.22 &          0 \\\\\n",
      "min   &       5.32 &       0.54 &      25.65 &       3.92 &      44.76 &       2.47 &      348.55 &       3.36 &      10.04 &       1.72 &       3.41 &       0.64 &       5.20 &          1 \\\\\n",
      "25\\%   &      27.13 &       0.88 &     173.11 &      20.80 &     162.67 &       6.56 &     3420.52 &      55.85 &      75.99 &       3.05 &      10.79 &       1.53 &      29.82 &          1 \\\\\n",
      "50\\%   &      89.39 &       1.24 &     330.19 &      48.83 &     522.25 &       9.18 &    14220.39 &     174.82 &     210.33 &       4.53 &      17.55 &       2.34 &      92.59 &          1 \\\\\n",
      "75\\%   &     466.09 &       1.79 &    1117.59 &     112.11 &    1673.80 &      18.41 &    86326.78 &     633.98 &    1484.11 &       6.53 &      45.19 &       4.21 &     459.90 &          1 \\\\\n",
      "max   &   10632.10 &       9.51 &    5157.01 &    3016.01 &   18715.42 &    2408.19 &  1515458.16 &    5150.83 &   11002.92 &      13.33 &     250.39 &     132.92 &   10587.19 &          1 \\\\\n",
      "\\bottomrule\n",
      "\\end{tabular}\n",
      "\n"
     ]
    }
   ],
   "source": [
    "\n",
    "objs_scaled = F['objectives']\n",
    "scaledrow = np.copy(objs_scaled[:,testRatioPosition])\n",
    "for i in range(objs_scaled.shape[1]):\n",
    "        objs_scaled[:,i] = objs_scaled[:,i]/scaledrow\n",
    "objs_scaled_df = pd.DataFrame(objs_scaled, index = index, columns=headings)\n",
    "print objs_scaled_df.describe().apply(pd.Series.round,args=(2,)).to_latex()"
   ]
  },
  {
   "cell_type": "code",
   "execution_count": 5,
   "metadata": {
    "collapsed": false
   },
   "outputs": [],
   "source": [
    "objs_scaled_df.plot(x=np.arange(objs_scaled.shape[0]), kind='box', title=\"Objective function ratios to CG Unit for f=\"+targetType,meanline=True, showmeans=True, logy=True)\n",
    "plt.plot((0,2+len(headings)),(1,1),color='c',zorder=1)\n",
    "plt.xlabel('Method')\n",
    "plt.ylabel('Ratio to CG Unit objective')\n",
    "fig = plt.gcf()\n",
    "fig.set_size_inches(12,8, forward = True)\n",
    "plt.savefig(savefolder + targetType.replace(' ','_') + '_' + 'ObjRatioBoxPlot.png', bbox_inches='tight', dpi=400)\n",
    "plt.show()"
   ]
  },
  {
   "cell_type": "code",
   "execution_count": 91,
   "metadata": {
    "collapsed": false
   },
   "outputs": [
    {
     "name": "stdout",
     "output_type": "stream",
     "text": [
      "       Clin Seed       Clin     Random         SW   Centered      Peaks  \\\n",
      "count  48.000000  48.000000  48.000000  48.000000  48.000000  48.000000   \n",
      "mean    0.474103   0.971623   1.179484   1.598395   0.918801   1.345838   \n",
      "std     0.197481   0.414565   0.688111   0.747962   0.364101   0.634352   \n",
      "min     0.206403   0.381760   0.461213   0.569883   0.381951   0.558191   \n",
      "25%     0.341325   0.617175   0.684057   0.952870   0.625662   0.806655   \n",
      "50%     0.436259   0.853764   1.004297   1.500119   0.857480   1.252106   \n",
      "75%     0.550542   1.235477   1.405487   2.027636   1.169835   1.795959   \n",
      "max     1.126942   2.045667   3.951814   3.327528   2.176001   2.920568   \n",
      "\n",
      "       CG Erf Seed     CG Erf  CG Unit Seed    CG Unit  \n",
      "count    48.000000  48.000000     48.000000  48.000000  \n",
      "mean      0.600404   1.060985      0.482733   0.937697  \n",
      "std       0.542980   0.573433      0.362336   0.365604  \n",
      "min       0.187063   0.417381      0.186740   0.386086  \n",
      "25%       0.275303   0.662830      0.257997   0.684852  \n",
      "50%       0.361541   0.930460      0.336314   0.886127  \n",
      "75%       0.624273   1.272239      0.533372   1.115566  \n",
      "max       2.877941   2.880349      1.500655   1.928078  \n"
     ]
    }
   ],
   "source": [
    "runTime_df = pd.DataFrame(F['runTimes'], index = index, columns=headings)\n",
    "print runTime_df.describe()\n",
    "\n",
    "runTime_df.plot(x=np.arange(objs_scaled.shape[0]), kind='box', title=\"Run time in seconds per method for f=\"+targetType, meanline=True,showmeans=True)\n",
    "plt.xlabel('Method')\n",
    "plt.ylabel('Run time in seconds')\n",
    "fig = plt.gcf()\n",
    "fig.set_size_inches(12,8, forward = True)\n",
    "plt.savefig(savefolder + targetType.replace(' ','_') + '_' + 'RunTimesPlot.png', bbox_inches='tight', dpi=400)\n",
    "plt.show()"
   ]
  },
  {
   "cell_type": "code",
   "execution_count": 92,
   "metadata": {
    "collapsed": false,
    "scrolled": true
   },
   "outputs": [
    {
     "data": {
      "text/html": [
       "<div>\n",
       "<table border=\"1\" class=\"dataframe\">\n",
       "  <thead>\n",
       "    <tr style=\"text-align: right;\">\n",
       "      <th></th>\n",
       "      <th></th>\n",
       "      <th></th>\n",
       "      <th>Clin Seed</th>\n",
       "      <th>Clin</th>\n",
       "      <th>Random</th>\n",
       "      <th>SW</th>\n",
       "      <th>Centered</th>\n",
       "      <th>Peaks</th>\n",
       "      <th>CG Erf Seed</th>\n",
       "      <th>CG Erf</th>\n",
       "      <th>CG Unit Seed</th>\n",
       "      <th>CG Unit</th>\n",
       "    </tr>\n",
       "    <tr>\n",
       "      <th>maxAper</th>\n",
       "      <th>numBins</th>\n",
       "      <th>minRange</th>\n",
       "      <th></th>\n",
       "      <th></th>\n",
       "      <th></th>\n",
       "      <th></th>\n",
       "      <th></th>\n",
       "      <th></th>\n",
       "      <th></th>\n",
       "      <th></th>\n",
       "      <th></th>\n",
       "      <th></th>\n",
       "    </tr>\n",
       "  </thead>\n",
       "  <tbody>\n",
       "    <tr>\n",
       "      <th>10</th>\n",
       "      <th>10</th>\n",
       "      <th>3</th>\n",
       "      <td>3.903086</td>\n",
       "      <td>0.709744</td>\n",
       "      <td>5.679022</td>\n",
       "      <td>2.979781</td>\n",
       "      <td>3.577025</td>\n",
       "      <td>1.075574</td>\n",
       "      <td>3.655437</td>\n",
       "      <td>0.748323</td>\n",
       "      <td>4.375334</td>\n",
       "      <td>1</td>\n",
       "    </tr>\n",
       "    <tr>\n",
       "      <th rowspan=\"4\" valign=\"top\">30</th>\n",
       "      <th rowspan=\"2\" valign=\"top\">10</th>\n",
       "      <th>5</th>\n",
       "      <td>1146.849390</td>\n",
       "      <td>3.387497</td>\n",
       "      <td>248.088603</td>\n",
       "      <td>13.941735</td>\n",
       "      <td>821.268321</td>\n",
       "      <td>3.457191</td>\n",
       "      <td>46.001327</td>\n",
       "      <td>13.968182</td>\n",
       "      <td>1134.031159</td>\n",
       "      <td>1</td>\n",
       "    </tr>\n",
       "    <tr>\n",
       "      <th>6</th>\n",
       "      <td>3605.512765</td>\n",
       "      <td>2.197298</td>\n",
       "      <td>146.327103</td>\n",
       "      <td>945.313633</td>\n",
       "      <td>2175.898918</td>\n",
       "      <td>2.794919</td>\n",
       "      <td>71.748318</td>\n",
       "      <td>37.807800</td>\n",
       "      <td>3639.507965</td>\n",
       "      <td>1</td>\n",
       "    </tr>\n",
       "    <tr>\n",
       "      <th rowspan=\"2\" valign=\"top\">15</th>\n",
       "      <th>3</th>\n",
       "      <td>55.848597</td>\n",
       "      <td>0.638478</td>\n",
       "      <td>19.669837</td>\n",
       "      <td>4.061508</td>\n",
       "      <td>1193.760747</td>\n",
       "      <td>3.417861</td>\n",
       "      <td>8.607201</td>\n",
       "      <td>1.094334</td>\n",
       "      <td>62.081406</td>\n",
       "      <td>1</td>\n",
       "    </tr>\n",
       "    <tr>\n",
       "      <th>4</th>\n",
       "      <td>201.554945</td>\n",
       "      <td>1.662213</td>\n",
       "      <td>32.774047</td>\n",
       "      <td>29.285579</td>\n",
       "      <td>916.807449</td>\n",
       "      <td>3.836493</td>\n",
       "      <td>18.231447</td>\n",
       "      <td>5.931892</td>\n",
       "      <td>209.141950</td>\n",
       "      <td>1</td>\n",
       "    </tr>\n",
       "  </tbody>\n",
       "</table>\n",
       "</div>"
      ],
      "text/plain": [
       "                              Clin Seed      Clin      Random          SW  \\\n",
       "maxAper  numBins  minRange                                                  \n",
       "10       10       3            3.903086  0.709744    5.679022    2.979781   \n",
       "30       10       5         1146.849390  3.387497  248.088603   13.941735   \n",
       "                  6         3605.512765  2.197298  146.327103  945.313633   \n",
       "         15       3           55.848597  0.638478   19.669837    4.061508   \n",
       "                  4          201.554945  1.662213   32.774047   29.285579   \n",
       "\n",
       "                               Centered     Peaks  CG Erf Seed     CG Erf  \\\n",
       "maxAper  numBins  minRange                                                  \n",
       "10       10       3            3.577025  1.075574     3.655437   0.748323   \n",
       "30       10       5          821.268321  3.457191    46.001327  13.968182   \n",
       "                  6         2175.898918  2.794919    71.748318  37.807800   \n",
       "         15       3         1193.760747  3.417861     8.607201   1.094334   \n",
       "                  4          916.807449  3.836493    18.231447   5.931892   \n",
       "\n",
       "                            CG Unit Seed  CG Unit  \n",
       "maxAper  numBins  minRange                         \n",
       "10       10       3             4.375334        1  \n",
       "30       10       5          1134.031159        1  \n",
       "                  6          3639.507965        1  \n",
       "         15       3            62.081406        1  \n",
       "                  4           209.141950        1  "
      ]
     },
     "execution_count": 92,
     "metadata": {},
     "output_type": "execute_result"
    }
   ],
   "source": [
    "objs_scaled_df.sort(columns=['CG Unit']).head(5)"
   ]
  },
  {
   "cell_type": "code",
   "execution_count": 93,
   "metadata": {
    "collapsed": false
   },
   "outputs": [
    {
     "data": {
      "text/html": [
       "<div>\n",
       "<table border=\"1\" class=\"dataframe\">\n",
       "  <thead>\n",
       "    <tr style=\"text-align: right;\">\n",
       "      <th></th>\n",
       "      <th>Clin Seed</th>\n",
       "      <th>Clin</th>\n",
       "      <th>Random</th>\n",
       "      <th>SW</th>\n",
       "      <th>Centered</th>\n",
       "      <th>Peaks</th>\n",
       "      <th>CG Erf Seed</th>\n",
       "      <th>CG Erf</th>\n",
       "      <th>CG Unit Seed</th>\n",
       "      <th>CG Unit</th>\n",
       "    </tr>\n",
       "  </thead>\n",
       "  <tbody>\n",
       "    <tr>\n",
       "      <th>count</th>\n",
       "      <td>48.000000</td>\n",
       "      <td>48.000000</td>\n",
       "      <td>48.000000</td>\n",
       "      <td>48.000000</td>\n",
       "      <td>48.000000</td>\n",
       "      <td>48.000000</td>\n",
       "      <td>48.000000</td>\n",
       "      <td>48.000000</td>\n",
       "      <td>48.000000</td>\n",
       "      <td>48</td>\n",
       "    </tr>\n",
       "    <tr>\n",
       "      <th>mean</th>\n",
       "      <td>0.941246</td>\n",
       "      <td>0.972693</td>\n",
       "      <td>1.237365</td>\n",
       "      <td>6.559046</td>\n",
       "      <td>0.786642</td>\n",
       "      <td>1.166723</td>\n",
       "      <td>2.838466</td>\n",
       "      <td>2.835090</td>\n",
       "      <td>0.969589</td>\n",
       "      <td>1</td>\n",
       "    </tr>\n",
       "    <tr>\n",
       "      <th>std</th>\n",
       "      <td>0.061438</td>\n",
       "      <td>0.065516</td>\n",
       "      <td>0.347174</td>\n",
       "      <td>3.246827</td>\n",
       "      <td>0.240488</td>\n",
       "      <td>0.134379</td>\n",
       "      <td>2.072202</td>\n",
       "      <td>2.074574</td>\n",
       "      <td>0.023668</td>\n",
       "      <td>0</td>\n",
       "    </tr>\n",
       "    <tr>\n",
       "      <th>min</th>\n",
       "      <td>0.783772</td>\n",
       "      <td>0.790999</td>\n",
       "      <td>0.671609</td>\n",
       "      <td>2.220159</td>\n",
       "      <td>0.406566</td>\n",
       "      <td>0.863369</td>\n",
       "      <td>0.970944</td>\n",
       "      <td>0.982893</td>\n",
       "      <td>0.905041</td>\n",
       "      <td>1</td>\n",
       "    </tr>\n",
       "    <tr>\n",
       "      <th>25%</th>\n",
       "      <td>0.910731</td>\n",
       "      <td>0.932299</td>\n",
       "      <td>0.944176</td>\n",
       "      <td>4.139098</td>\n",
       "      <td>0.615490</td>\n",
       "      <td>1.067587</td>\n",
       "      <td>1.440691</td>\n",
       "      <td>1.441433</td>\n",
       "      <td>0.955441</td>\n",
       "      <td>1</td>\n",
       "    </tr>\n",
       "    <tr>\n",
       "      <th>50%</th>\n",
       "      <td>0.951670</td>\n",
       "      <td>0.987905</td>\n",
       "      <td>1.259090</td>\n",
       "      <td>6.238546</td>\n",
       "      <td>0.719014</td>\n",
       "      <td>1.159355</td>\n",
       "      <td>2.222832</td>\n",
       "      <td>2.215752</td>\n",
       "      <td>0.974982</td>\n",
       "      <td>1</td>\n",
       "    </tr>\n",
       "    <tr>\n",
       "      <th>75%</th>\n",
       "      <td>0.985405</td>\n",
       "      <td>1.017268</td>\n",
       "      <td>1.443753</td>\n",
       "      <td>8.416144</td>\n",
       "      <td>0.959070</td>\n",
       "      <td>1.240666</td>\n",
       "      <td>3.441697</td>\n",
       "      <td>3.438313</td>\n",
       "      <td>0.986996</td>\n",
       "      <td>1</td>\n",
       "    </tr>\n",
       "    <tr>\n",
       "      <th>max</th>\n",
       "      <td>1.044904</td>\n",
       "      <td>1.089652</td>\n",
       "      <td>2.184121</td>\n",
       "      <td>15.932016</td>\n",
       "      <td>1.403374</td>\n",
       "      <td>1.509946</td>\n",
       "      <td>12.356157</td>\n",
       "      <td>12.356112</td>\n",
       "      <td>1.001098</td>\n",
       "      <td>1</td>\n",
       "    </tr>\n",
       "  </tbody>\n",
       "</table>\n",
       "</div>"
      ],
      "text/plain": [
       "       Clin Seed       Clin     Random         SW   Centered      Peaks  \\\n",
       "count  48.000000  48.000000  48.000000  48.000000  48.000000  48.000000   \n",
       "mean    0.941246   0.972693   1.237365   6.559046   0.786642   1.166723   \n",
       "std     0.061438   0.065516   0.347174   3.246827   0.240488   0.134379   \n",
       "min     0.783772   0.790999   0.671609   2.220159   0.406566   0.863369   \n",
       "25%     0.910731   0.932299   0.944176   4.139098   0.615490   1.067587   \n",
       "50%     0.951670   0.987905   1.259090   6.238546   0.719014   1.159355   \n",
       "75%     0.985405   1.017268   1.443753   8.416144   0.959070   1.240666   \n",
       "max     1.044904   1.089652   2.184121  15.932016   1.403374   1.509946   \n",
       "\n",
       "       CG Erf Seed     CG Erf  CG Unit Seed  CG Unit  \n",
       "count    48.000000  48.000000     48.000000       48  \n",
       "mean      2.838466   2.835090      0.969589        1  \n",
       "std       2.072202   2.074574      0.023668        0  \n",
       "min       0.970944   0.982893      0.905041        1  \n",
       "25%       1.440691   1.441433      0.955441        1  \n",
       "50%       2.222832   2.215752      0.974982        1  \n",
       "75%       3.441697   3.438313      0.986996        1  \n",
       "max      12.356157  12.356112      1.001098        1  "
      ]
     },
     "execution_count": 93,
     "metadata": {},
     "output_type": "execute_result"
    }
   ],
   "source": [
    "# Get total MUs, plot ratios\n",
    "mus_scaled = F['totalMU']\n",
    "scaledMUrow = np.copy(mus_scaled[:,testRatioPosition])\n",
    "for i in range(mus_scaled.shape[1]):\n",
    "        mus_scaled[:,i] = mus_scaled[:,i]/scaledMUrow\n",
    "mus_scaled_df = pd.DataFrame(mus_scaled, index = index, columns=headings)\n",
    "mus_scaled_df.plot(x=np.arange(objs_scaled.shape[0]), kind='box', title=\"MU ratios to CG Unit for f=\"+targetType,meanline=True, showmeans=True)\n",
    "plt.plot((0,2+len(headings)),(1,1),color='c', zorder=1)\n",
    "plt.xlabel('Method')\n",
    "plt.ylabel('MU Ratio to CG Unit')\n",
    "fig = plt.gcf()\n",
    "fig.set_size_inches(12,8, forward = True)\n",
    "plt.savefig(savefolder + targetType.replace(' ','_') + '_' + 'MURatios.png', bbox_inches='tight', dpi=400)\n",
    "plt.show()\n",
    "mus_scaled_df.describe()"
   ]
  },
  {
   "cell_type": "code",
   "execution_count": 94,
   "metadata": {
    "collapsed": false
   },
   "outputs": [
    {
     "data": {
      "text/plain": [
       "count       4.000000\n",
       "mean      966.332446\n",
       "std      1742.014725\n",
       "min         3.577025\n",
       "25%         9.016412\n",
       "50%       144.730081\n",
       "75%      1102.046114\n",
       "max      3572.292597\n",
       "Name: (10.0, 3.0, Centered), dtype: float64"
      ]
     },
     "execution_count": 94,
     "metadata": {},
     "output_type": "execute_result"
    }
   ],
   "source": [
    "# make pivot table of run times per K\n",
    "objs_stacked_df = objs_scaled_df.stack()\n",
    "objs_stacked_df.unstack(0).iloc[4,:].describe()"
   ]
  },
  {
   "cell_type": "code",
   "execution_count": 95,
   "metadata": {
    "collapsed": false
   },
   "outputs": [],
   "source": [
    "runTime_df.mean(level=0).plot()\n",
    "plt.savefig(savefolder + targetType.replace(' ','_') + '_' + 'MeanRunTimesPerK.png')\n",
    "plt.show()"
   ]
  },
  {
   "cell_type": "code",
   "execution_count": 96,
   "metadata": {
    "collapsed": false
   },
   "outputs": [],
   "source": [
    "mus_stacked = mus_scaled_df.stack()\n",
    "objs_stacked = objs_scaled_df.stack"
   ]
  },
  {
   "cell_type": "code",
   "execution_count": null,
   "metadata": {
    "collapsed": false
   },
   "outputs": [],
   "source": [
    "\n"
   ]
  },
  {
   "cell_type": "code",
   "execution_count": 97,
   "metadata": {
    "collapsed": false
   },
   "outputs": [],
   "source": [
    "#print objs_scaled_df\n",
    "# kFix = 10\n",
    "# l1Fix = 2\n",
    "# print objs_scaled_df.xs((kFix,l1Fix),level=(0,1))\n",
    "# print mus_scaled_df.xs((kFix,l1Fix),level=(0,1))\n",
    "# plt.scatter(mus_scaled_df.xs((kFix,l1Fix),level=(0,1)),objs_scaled_df.xs((kFix,l1Fix),level=(0,1)))\n",
    "# plt.show()"
   ]
  },
  {
   "cell_type": "code",
   "execution_count": null,
   "metadata": {
    "collapsed": false
   },
   "outputs": [],
   "source": []
  },
  {
   "cell_type": "code",
   "execution_count": null,
   "metadata": {
    "collapsed": false
   },
   "outputs": [],
   "source": []
  },
  {
   "cell_type": "code",
   "execution_count": 98,
   "metadata": {
    "collapsed": false
   },
   "outputs": [
    {
     "name": "stdout",
     "output_type": "stream",
     "text": [
      "Float64Index([10.0, 30.0], dtype='float64', name=u'maxAper ') Float64Index([10.0, 20.0], dtype='float64', name=u'numBins ')\n"
     ]
    }
   ],
   "source": [
    "kFix = objs_scaled_df.index.levels[0][0::2]\n",
    "l1Fix = objs_scaled_df.index.levels[1][0::2]\n",
    "print kFix, l1Fix\n",
    "\n",
    "counter = 1\n",
    "for l in range(len(l1Fix)):\n",
    "    for k in range(len(kFix)):    \n",
    "        ax = plt.subplot(len(kFix),len(l1Fix),counter)\n",
    "        ax.set_yscale('log')\n",
    "        rainbow = ['r','c','darkblue','maroon', 'yellow', 'black','gray','g', 'peru', 'darkorange', 'darkyellow']\n",
    "        for s,i in zip(objs_scaled_df.columns.values,range(len(objs_scaled_df.columns.values))):\n",
    "            color = rainbow[i]\n",
    "            ax.plot(mus_scaled_df.xs((kFix[k],l1Fix[l]),level=(0,1))[s],objs_scaled_df.xs((kFix[k],l1Fix[l]),level=(0,1))[s],color = color, label = s,marker = 'o', zorder =2)\n",
    "        if counter==1:                        \n",
    "            #ax.legend(bbox_to_anchor=(1.05, 1), loc=2, borderaxespad=0.)        \n",
    "            ax.legend(markerscale = 0.5,fontsize=12,fancybox=True,framealpha=0.5)\n",
    "        plt.xlabel('MU Ratio')\n",
    "        plt.ylabel('Obj Ratio')\n",
    "        plt.title('K = ' + str(kFix[k]) +', ' + rowtitles[1].strip() + ' = ' + str(l1Fix[l]))\n",
    "        plt.plot((0,mus_scaled_df.xs((kFix[k],l1Fix[l]),level=(0,1)).max().max()),(1,1),color='orange', zorder=1)\n",
    "        plt.plot((1,1),(objs_scaled_df.xs((kFix[k],l1Fix[l]),level=(0,1)).min().min(),objs_scaled_df.xs((kFix[k],l1Fix[l]),level=(0,1)).max().max()),color= 'orange', zorder=1)\n",
    "        plt.axis('tight')\n",
    "        plt.xlim(min(0.5,mus_scaled_df.xs((kFix[k],l1Fix[l]),level=(0,1)).min().min()),mus_scaled_df.xs((kFix[k],l1Fix[l]),level=(0,1)).max().max())\n",
    "        plt.ylim(min(0.7,objs_scaled_df.xs((kFix[k],l1Fix[l]),level=(0,1)).min().min()),objs_scaled_df.xs((kFix[k],l1Fix[l]),level=(0,1)).max().max())\n",
    "        counter+=1\n",
    "fig = plt.gcf()\n",
    "fig.set_size_inches(5 * len(l1Fix),3 * len(kFix), forward = True)\n",
    "plt.tight_layout(pad = 0.3)\n",
    "plt.savefig(savefolder + targetType.replace(' ','_') + '_' + 'ObjVsMU.png', bbox_inches='tight', dpi=400)\n",
    "plt.show()\n",
    "\n"
   ]
  },
  {
   "cell_type": "code",
   "execution_count": 22,
   "metadata": {
    "collapsed": false
   },
   "outputs": [
    {
     "data": {
      "text/html": [
       "<div>\n",
       "<table border=\"1\" class=\"dataframe\">\n",
       "  <thead>\n",
       "    <tr style=\"text-align: right;\">\n",
       "      <th></th>\n",
       "      <th>Clin Seed</th>\n",
       "      <th>Clin</th>\n",
       "      <th>Random</th>\n",
       "      <th>SW</th>\n",
       "      <th>Centered</th>\n",
       "      <th>Peaks</th>\n",
       "      <th>CG Erf Seed</th>\n",
       "      <th>CG Erf</th>\n",
       "      <th>CG Unit Seed</th>\n",
       "      <th>CG Unit</th>\n",
       "    </tr>\n",
       "  </thead>\n",
       "  <tbody>\n",
       "    <tr>\n",
       "      <th>count</th>\n",
       "      <td>48.000000</td>\n",
       "      <td>48.000000</td>\n",
       "      <td>48.000000</td>\n",
       "      <td>48.000000</td>\n",
       "      <td>48.000000</td>\n",
       "      <td>48.000000</td>\n",
       "      <td>48.000000</td>\n",
       "      <td>48.000000</td>\n",
       "      <td>48.000000</td>\n",
       "      <td>48</td>\n",
       "    </tr>\n",
       "    <tr>\n",
       "      <th>mean</th>\n",
       "      <td>578.618008</td>\n",
       "      <td>2.055268</td>\n",
       "      <td>172.822623</td>\n",
       "      <td>81.626435</td>\n",
       "      <td>1027.046676</td>\n",
       "      <td>5.998382</td>\n",
       "      <td>28.783781</td>\n",
       "      <td>8.464134</td>\n",
       "      <td>572.855143</td>\n",
       "      <td>1</td>\n",
       "    </tr>\n",
       "    <tr>\n",
       "      <th>std</th>\n",
       "      <td>1136.708249</td>\n",
       "      <td>2.102771</td>\n",
       "      <td>448.140084</td>\n",
       "      <td>236.404812</td>\n",
       "      <td>1969.967143</td>\n",
       "      <td>5.212987</td>\n",
       "      <td>26.064306</td>\n",
       "      <td>16.901626</td>\n",
       "      <td>1117.023929</td>\n",
       "      <td>0</td>\n",
       "    </tr>\n",
       "    <tr>\n",
       "      <th>min</th>\n",
       "      <td>3.425617</td>\n",
       "      <td>0.523657</td>\n",
       "      <td>5.679022</td>\n",
       "      <td>2.813123</td>\n",
       "      <td>3.577025</td>\n",
       "      <td>1.075574</td>\n",
       "      <td>2.383787</td>\n",
       "      <td>0.748323</td>\n",
       "      <td>2.947407</td>\n",
       "      <td>1</td>\n",
       "    </tr>\n",
       "    <tr>\n",
       "      <th>25%</th>\n",
       "      <td>31.811356</td>\n",
       "      <td>0.948416</td>\n",
       "      <td>18.644246</td>\n",
       "      <td>5.885187</td>\n",
       "      <td>35.540281</td>\n",
       "      <td>3.185244</td>\n",
       "      <td>11.306445</td>\n",
       "      <td>1.810135</td>\n",
       "      <td>31.998832</td>\n",
       "      <td>1</td>\n",
       "    </tr>\n",
       "    <tr>\n",
       "      <th>50%</th>\n",
       "      <td>117.169656</td>\n",
       "      <td>1.402968</td>\n",
       "      <td>36.923392</td>\n",
       "      <td>9.755888</td>\n",
       "      <td>225.673245</td>\n",
       "      <td>4.411226</td>\n",
       "      <td>21.832325</td>\n",
       "      <td>2.914322</td>\n",
       "      <td>125.285494</td>\n",
       "      <td>1</td>\n",
       "    </tr>\n",
       "    <tr>\n",
       "      <th>75%</th>\n",
       "      <td>636.204413</td>\n",
       "      <td>2.023923</td>\n",
       "      <td>146.737514</td>\n",
       "      <td>17.967071</td>\n",
       "      <td>1124.134819</td>\n",
       "      <td>6.548610</td>\n",
       "      <td>37.121728</td>\n",
       "      <td>6.067490</td>\n",
       "      <td>635.460845</td>\n",
       "      <td>1</td>\n",
       "    </tr>\n",
       "    <tr>\n",
       "      <th>max</th>\n",
       "      <td>5530.333860</td>\n",
       "      <td>12.475735</td>\n",
       "      <td>3021.699128</td>\n",
       "      <td>1132.046414</td>\n",
       "      <td>9431.166104</td>\n",
       "      <td>31.231162</td>\n",
       "      <td>129.465970</td>\n",
       "      <td>103.592356</td>\n",
       "      <td>5262.860769</td>\n",
       "      <td>1</td>\n",
       "    </tr>\n",
       "  </tbody>\n",
       "</table>\n",
       "</div>"
      ],
      "text/plain": [
       "         Clin Seed       Clin       Random           SW     Centered  \\\n",
       "count    48.000000  48.000000    48.000000    48.000000    48.000000   \n",
       "mean    578.618008   2.055268   172.822623    81.626435  1027.046676   \n",
       "std    1136.708249   2.102771   448.140084   236.404812  1969.967143   \n",
       "min       3.425617   0.523657     5.679022     2.813123     3.577025   \n",
       "25%      31.811356   0.948416    18.644246     5.885187    35.540281   \n",
       "50%     117.169656   1.402968    36.923392     9.755888   225.673245   \n",
       "75%     636.204413   2.023923   146.737514    17.967071  1124.134819   \n",
       "max    5530.333860  12.475735  3021.699128  1132.046414  9431.166104   \n",
       "\n",
       "           Peaks  CG Erf Seed      CG Erf  CG Unit Seed  CG Unit  \n",
       "count  48.000000    48.000000   48.000000     48.000000       48  \n",
       "mean    5.998382    28.783781    8.464134    572.855143        1  \n",
       "std     5.212987    26.064306   16.901626   1117.023929        0  \n",
       "min     1.075574     2.383787    0.748323      2.947407        1  \n",
       "25%     3.185244    11.306445    1.810135     31.998832        1  \n",
       "50%     4.411226    21.832325    2.914322    125.285494        1  \n",
       "75%     6.548610    37.121728    6.067490    635.460845        1  \n",
       "max    31.231162   129.465970  103.592356   5262.860769        1  "
      ]
     },
     "execution_count": 22,
     "metadata": {},
     "output_type": "execute_result"
    }
   ],
   "source": [
    "objs_scaled_df[objs_scaled_df[:]<1000].describe()"
   ]
  },
  {
   "cell_type": "code",
   "execution_count": null,
   "metadata": {
    "collapsed": true
   },
   "outputs": [],
   "source": []
  }
 ],
 "metadata": {
  "kernelspec": {
   "display_name": "Python 2",
   "language": "python",
   "name": "python2"
  },
  "language_info": {
   "codemirror_mode": {
    "name": "ipython",
    "version": 2
   },
   "file_extension": ".py",
   "mimetype": "text/x-python",
   "name": "python",
   "nbconvert_exporter": "python",
   "pygments_lexer": "ipython2",
   "version": "2.7.11"
  }
 },
 "nbformat": 4,
 "nbformat_minor": 0
}
